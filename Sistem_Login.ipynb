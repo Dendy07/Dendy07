{
  "nbformat": 4,
  "nbformat_minor": 0,
  "metadata": {
    "colab": {
      "provenance": [],
      "authorship_tag": "ABX9TyPXJ6H9PZo8Cu08dRBW4V2O",
      "include_colab_link": true
    },
    "kernelspec": {
      "name": "python3",
      "display_name": "Python 3"
    },
    "language_info": {
      "name": "python"
    }
  },
  "cells": [
    {
      "cell_type": "markdown",
      "metadata": {
        "id": "view-in-github",
        "colab_type": "text"
      },
      "source": [
        "<a href=\"https://colab.research.google.com/github/Dendy07/Dendy07/blob/circleci-project-setup/Sistem_Login.ipynb\" target=\"_parent\"><img src=\"https://colab.research.google.com/assets/colab-badge.svg\" alt=\"Open In Colab\"/></a>"
      ]
    },
    {
      "cell_type": "code",
      "execution_count": 2,
      "metadata": {
        "colab": {
          "base_uri": "https://localhost:8080/"
        },
        "id": "FFW1ujy3cecW",
        "outputId": "8e8b8efb-7ba5-4fce-bbec-d94ac20a7c5a"
      },
      "outputs": [
        {
          "output_type": "stream",
          "name": "stdout",
          "text": [
            "Enter username: Desatra\n",
            "Enter password: 12345\n",
            "Incorrect password. Please try again.\n",
            "Enter username: Desatra\n",
            "Enter password: 123\n",
            "Login successful!\n"
          ]
        }
      ],
      "source": [
        "def vigenere_encrypt(plain_text, key):\n",
        "    encrypted_text = ''\n",
        "    key_length = len(key)\n",
        "    for i in range(len(plain_text)):\n",
        "        char = plain_text[i]\n",
        "        if char.isalpha():\n",
        "            key_char = key[i % key_length]\n",
        "            key_shift = ord(key_char.upper()) - ord('A')\n",
        "            if char.isupper():\n",
        "                encrypted_char = chr((ord(char) + key_shift - ord('A')) % 26 + ord('A'))\n",
        "            else:\n",
        "                encrypted_char = chr((ord(char) + key_shift - ord('a')) % 26 + ord('a'))\n",
        "            encrypted_text += encrypted_char\n",
        "        else:\n",
        "            encrypted_text += char\n",
        "    return encrypted_text\n",
        "\n",
        "\n",
        "def vigenere_decrypt(encrypted_text, key):\n",
        "    decrypted_text = ''\n",
        "    key_length = len(key)\n",
        "    for i in range(len(encrypted_text)):\n",
        "        char = encrypted_text[i]\n",
        "        if char.isalpha():\n",
        "            key_char = key[i % key_length]\n",
        "            key_shift = ord(key_char.upper()) - ord('A')\n",
        "            if char.isupper():\n",
        "                decrypted_char = chr((ord(char) - key_shift - ord('A')) % 26 + ord('A'))\n",
        "            else:\n",
        "                decrypted_char = chr((ord(char) - key_shift - ord('a')) % 26 + ord('a'))\n",
        "            decrypted_text += decrypted_char\n",
        "        else:\n",
        "            decrypted_text += char\n",
        "    return decrypted_text\n",
        "\n",
        "\n",
        "def login():\n",
        "    stored_encrypted_password = vigenere_encrypt(\"123\", \"KEY\")  # Simulated stored encrypted password\n",
        "\n",
        "    while True:\n",
        "        username = input(\"Enter username: \")\n",
        "        password = input(\"Enter password: \")\n",
        "\n",
        "        # Encrypt the entered password using Vigenere Cipher\n",
        "        encrypted_password = vigenere_encrypt(password, \"KEY\")\n",
        "\n",
        "        # Check if the encrypted password matches the stored encrypted password\n",
        "        if encrypted_password == stored_encrypted_password:\n",
        "            print(\"Login successful!\")\n",
        "            break\n",
        "        else:\n",
        "            print(\"Incorrect password. Please try again.\")\n",
        "\n",
        "\n",
        "# Example usage\n",
        "login()\n"
      ]
    }
  ]
}